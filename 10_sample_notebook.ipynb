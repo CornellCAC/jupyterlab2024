{
 "cells": [
  {
   "cell_type": "markdown",
   "id": "10b52380-c60c-49aa-8561-83298b9bf859",
   "metadata": {
    "editable": true,
    "slideshow": {
     "slide_type": ""
    },
    "tags": []
   },
   "source": [
    "# Sample Notebook"
   ]
  },
  {
   "cell_type": "code",
   "execution_count": null,
   "id": "3ab97641-e32b-41db-b954-3a1584abe136",
   "metadata": {},
   "outputs": [],
   "source": []
  },
  {
   "cell_type": "markdown",
   "id": "ae452e67-3378-463d-84b6-c94728751271",
   "metadata": {},
   "source": [
    "## Setup\n",
    "\n",
    "### Imports\n",
    "Put the import statements at the top so it is easy for your readers to know what they must install to use your notebook."
   ]
  },
  {
   "cell_type": "code",
   "execution_count": 4,
   "id": "f3f23b6f-d679-41b8-aa26-45ab812e6ba2",
   "metadata": {},
   "outputs": [],
   "source": [
    "import pandas as pd\n",
    "import plotnine as gg"
   ]
  },
  {
   "cell_type": "code",
   "execution_count": 5,
   "id": "b982b1e0-a71d-4960-8217-73bc417ab799",
   "metadata": {},
   "outputs": [],
   "source": [
    "from tqdm.notebook import tqdm"
   ]
  },
  {
   "cell_type": "markdown",
   "id": "81871437-4501-4126-86df-6380b6bafb08",
   "metadata": {},
   "source": [
    "### Configurations\n",
    "\n",
    "For instance, how to show cell output. "
   ]
  },
  {
   "cell_type": "code",
   "execution_count": 6,
   "id": "11b8bda7-9137-4bc6-ae10-f906a0e758e1",
   "metadata": {},
   "outputs": [
    {
     "name": "stdout",
     "output_type": "stream",
     "text": [
      "45\n"
     ]
    },
    {
     "data": {
      "text/plain": [
       "4950"
      ]
     },
     "execution_count": 6,
     "metadata": {},
     "output_type": "execute_result"
    }
   ],
   "source": [
    "# Example with default 'last'\n",
    "sum(range(10)) #no\n",
    "\n",
    "print(sum(range(10))) #yes\n",
    "\n",
    "sum(range(100)) #yes"
   ]
  },
  {
   "cell_type": "code",
   "execution_count": 7,
   "id": "4f6a25f1-8549-45dd-8499-3b1a3762edee",
   "metadata": {},
   "outputs": [],
   "source": [
    "from IPython.core.interactiveshell import InteractiveShell\n",
    "InteractiveShell.ast_node_interactivity = \"all\"  \n",
    "\n",
    "#Options: 'all', 'last', 'last_expr', 'none', 'last_expr_or_assign'"
   ]
  },
  {
   "cell_type": "code",
   "execution_count": 8,
   "id": "6bcbd14f-3e1c-4202-93de-dc29e1884b36",
   "metadata": {},
   "outputs": [
    {
     "data": {
      "text/plain": [
       "45"
      ]
     },
     "execution_count": 8,
     "metadata": {},
     "output_type": "execute_result"
    },
    {
     "name": "stdout",
     "output_type": "stream",
     "text": [
      "45\n"
     ]
    },
    {
     "data": {
      "text/plain": [
       "4950"
      ]
     },
     "execution_count": 8,
     "metadata": {},
     "output_type": "execute_result"
    }
   ],
   "source": [
    "# Example v2 with 'all'\n",
    "sum(range(10))        #yes\n",
    "print(sum(range(10))) #yes\n",
    "sum(range(100))       #yes"
   ]
  },
  {
   "cell_type": "code",
   "execution_count": null,
   "id": "5bbc3457-1952-4242-a4d4-af21c7ac6078",
   "metadata": {},
   "outputs": [],
   "source": []
  },
  {
   "cell_type": "markdown",
   "id": "39d05879-affc-4e63-ab52-ea0386b5ae11",
   "metadata": {},
   "source": [
    "## Working with data"
   ]
  },
  {
   "cell_type": "markdown",
   "id": "6011dd51-5958-424a-9e25-19e08f8c829b",
   "metadata": {},
   "source": [
    "### Loading Data"
   ]
  },
  {
   "cell_type": "code",
   "execution_count": 9,
   "id": "0082e023-72f9-4bb8-b9ff-3b3920de2657",
   "metadata": {},
   "outputs": [],
   "source": [
    "df = pd.read_csv(\"data/registration_times.csv\")"
   ]
  },
  {
   "cell_type": "code",
   "execution_count": 10,
   "id": "c6f38446-f2c5-4a1f-8e48-f28f54edce79",
   "metadata": {},
   "outputs": [
    {
     "data": {
      "text/html": [
       "<div>\n",
       "<style scoped>\n",
       "    .dataframe tbody tr th:only-of-type {\n",
       "        vertical-align: middle;\n",
       "    }\n",
       "\n",
       "    .dataframe tbody tr th {\n",
       "        vertical-align: top;\n",
       "    }\n",
       "\n",
       "    .dataframe thead th {\n",
       "        text-align: right;\n",
       "    }\n",
       "</style>\n",
       "<table border=\"1\" class=\"dataframe\">\n",
       "  <thead>\n",
       "    <tr style=\"text-align: right;\">\n",
       "      <th></th>\n",
       "      <th>Registration Time</th>\n",
       "      <th>org</th>\n",
       "    </tr>\n",
       "  </thead>\n",
       "  <tbody>\n",
       "    <tr>\n",
       "      <th>0</th>\n",
       "      <td>2022-10-19 13:43:15</td>\n",
       "      <td>cu</td>\n",
       "    </tr>\n",
       "    <tr>\n",
       "      <th>1</th>\n",
       "      <td>2022-10-19 18:53:05</td>\n",
       "      <td>cu</td>\n",
       "    </tr>\n",
       "    <tr>\n",
       "      <th>2</th>\n",
       "      <td>2022-10-27 09:56:39</td>\n",
       "      <td>cu</td>\n",
       "    </tr>\n",
       "    <tr>\n",
       "      <th>3</th>\n",
       "      <td>2022-10-25 13:45:37</td>\n",
       "      <td>cu</td>\n",
       "    </tr>\n",
       "    <tr>\n",
       "      <th>4</th>\n",
       "      <td>2022-10-20 09:37:27</td>\n",
       "      <td>cu</td>\n",
       "    </tr>\n",
       "  </tbody>\n",
       "</table>\n",
       "</div>"
      ],
      "text/plain": [
       "     Registration Time org\n",
       "0  2022-10-19 13:43:15  cu\n",
       "1  2022-10-19 18:53:05  cu\n",
       "2  2022-10-27 09:56:39  cu\n",
       "3  2022-10-25 13:45:37  cu\n",
       "4  2022-10-20 09:37:27  cu"
      ]
     },
     "execution_count": 10,
     "metadata": {},
     "output_type": "execute_result"
    },
    {
     "data": {
      "text/plain": [
       "Registration Time    object\n",
       "org                  object\n",
       "dtype: object"
      ]
     },
     "execution_count": 10,
     "metadata": {},
     "output_type": "execute_result"
    }
   ],
   "source": [
    "df.head()\n",
    "df.dtypes  #not the types we want!"
   ]
  },
  {
   "cell_type": "code",
   "execution_count": null,
   "id": "8be992a8-e33f-4bd0-89a1-b3d58910e042",
   "metadata": {},
   "outputs": [],
   "source": []
  },
  {
   "cell_type": "markdown",
   "id": "a73ceabb-76db-4e56-b1eb-49f538331265",
   "metadata": {
    "tags": []
   },
   "source": [
    "### Aside: Editor Features"
   ]
  },
  {
   "cell_type": "code",
   "execution_count": 11,
   "id": "7929a49c-e616-4a63-be32-0ba13492800e",
   "metadata": {},
   "outputs": [
    {
     "ename": "AttributeError",
     "evalue": "module 'pandas' has no attribute 'to_'",
     "output_type": "error",
     "traceback": [
      "\u001b[0;31m---------------------------------------------------------------------------\u001b[0m",
      "\u001b[0;31mAttributeError\u001b[0m                            Traceback (most recent call last)",
      "Cell \u001b[0;32mIn[11], line 2\u001b[0m\n\u001b[1;32m      1\u001b[0m \u001b[38;5;66;03m#demonstrate completion\u001b[39;00m\n\u001b[0;32m----> 2\u001b[0m \u001b[43mpd\u001b[49m\u001b[38;5;241;43m.\u001b[39;49m\u001b[43mto_\u001b[49m   \u001b[38;5;66;03m#(tab)\u001b[39;00m\n",
      "\u001b[0;31mAttributeError\u001b[0m: module 'pandas' has no attribute 'to_'"
     ]
    }
   ],
   "source": [
    "#demonstrate completion\n",
    "pd.to_   #(tab)"
   ]
  },
  {
   "cell_type": "code",
   "execution_count": 12,
   "id": "75960eec-6d5b-42ae-8637-35966e7abebd",
   "metadata": {
    "tags": []
   },
   "outputs": [
    {
     "data": {
      "text/plain": [
       "<function pandas.core.tools.datetimes.to_datetime(arg: 'DatetimeScalarOrArrayConvertible | DictConvertible', errors: 'DateTimeErrorChoices' = 'raise', dayfirst: 'bool' = False, yearfirst: 'bool' = False, utc: 'bool' = False, format: 'str | None' = None, exact: 'bool | lib.NoDefault' = <no_default>, unit: 'str | None' = None, infer_datetime_format: 'lib.NoDefault | bool' = <no_default>, origin: 'str' = 'unix', cache: 'bool' = True) -> 'DatetimeIndex | Series | DatetimeScalar | NaTType | None'>"
      ]
     },
     "execution_count": 12,
     "metadata": {},
     "output_type": "execute_result"
    }
   ],
   "source": [
    "#demonstate help\n",
    "pd.to_datetime #(shift-tab)"
   ]
  },
  {
   "cell_type": "code",
   "execution_count": 13,
   "id": "657e9d0e-241d-4078-ac62-46bd6f6e5a09",
   "metadata": {},
   "outputs": [],
   "source": [
    "#contextual help in Help > Show Contextual Help"
   ]
  },
  {
   "cell_type": "markdown",
   "id": "d981a717-f166-46b2-8efc-67e6e350dfa5",
   "metadata": {},
   "source": [
    "### Prep Data"
   ]
  },
  {
   "cell_type": "code",
   "execution_count": 14,
   "id": "84d466ef-a834-4bd5-b4e0-e39e161389be",
   "metadata": {},
   "outputs": [
    {
     "data": {
      "text/plain": [
       "Registration Time            object\n",
       "org                        category\n",
       "Registration_Time    datetime64[ns]\n",
       "dtype: object"
      ]
     },
     "execution_count": 14,
     "metadata": {},
     "output_type": "execute_result"
    }
   ],
   "source": [
    "df['Registration_Time'] = pd.to_datetime(df['Registration Time'], utc=False)\n",
    "df['org'] = pd.Categorical(df.org, categories=['wcm', 'cu', 'other'])\n",
    "df.dtypes"
   ]
  },
  {
   "cell_type": "code",
   "execution_count": 80,
   "id": "f4133c8b-89df-4d29-a18c-280a1f12c68c",
   "metadata": {},
   "outputs": [
    {
     "data": {
      "text/plain": [
       "0     2022-10-19 13:43:15\n",
       "1     2022-10-19 18:53:05\n",
       "2     2022-10-27 09:56:39\n",
       "3     2022-10-25 13:45:37\n",
       "4     2022-10-20 09:37:27\n",
       "              ...        \n",
       "261   2022-10-27 14:50:53\n",
       "262   2022-10-19 13:42:07\n",
       "263   2022-11-01 10:27:14\n",
       "264   2022-10-19 15:33:51\n",
       "265   2022-10-25 10:31:17\n",
       "Name: Registration_Time, Length: 266, dtype: datetime64[ns]"
      ]
     },
     "execution_count": 80,
     "metadata": {},
     "output_type": "execute_result"
    }
   ],
   "source": [
    "df['Registration_Time']"
   ]
  },
  {
   "cell_type": "code",
   "execution_count": 92,
   "id": "f025f839-4c86-4e18-9dbf-422aad44b72a",
   "metadata": {},
   "outputs": [
    {
     "data": {
      "text/html": [
       "<div>\n",
       "<style scoped>\n",
       "    .dataframe tbody tr th:only-of-type {\n",
       "        vertical-align: middle;\n",
       "    }\n",
       "\n",
       "    .dataframe tbody tr th {\n",
       "        vertical-align: top;\n",
       "    }\n",
       "\n",
       "    .dataframe thead th {\n",
       "        text-align: right;\n",
       "    }\n",
       "</style>\n",
       "<table border=\"1\" class=\"dataframe\">\n",
       "  <thead>\n",
       "    <tr style=\"text-align: right;\">\n",
       "      <th></th>\n",
       "      <th>Registration Time</th>\n",
       "      <th>org</th>\n",
       "      <th>Registration_Time</th>\n",
       "    </tr>\n",
       "  </thead>\n",
       "  <tbody>\n",
       "    <tr>\n",
       "      <th>0</th>\n",
       "      <td>2022-10-19 13:43:15</td>\n",
       "      <td>cu</td>\n",
       "      <td>2022-10-19 13:43:15</td>\n",
       "    </tr>\n",
       "    <tr>\n",
       "      <th>1</th>\n",
       "      <td>2022-10-19 18:53:05</td>\n",
       "      <td>cu</td>\n",
       "      <td>2022-10-19 18:53:05</td>\n",
       "    </tr>\n",
       "    <tr>\n",
       "      <th>2</th>\n",
       "      <td>2022-10-27 09:56:39</td>\n",
       "      <td>cu</td>\n",
       "      <td>2022-10-27 09:56:39</td>\n",
       "    </tr>\n",
       "    <tr>\n",
       "      <th>3</th>\n",
       "      <td>2022-10-25 13:45:37</td>\n",
       "      <td>cu</td>\n",
       "      <td>2022-10-25 13:45:37</td>\n",
       "    </tr>\n",
       "    <tr>\n",
       "      <th>4</th>\n",
       "      <td>2022-10-20 09:37:27</td>\n",
       "      <td>cu</td>\n",
       "      <td>2022-10-20 09:37:27</td>\n",
       "    </tr>\n",
       "    <tr>\n",
       "      <th>...</th>\n",
       "      <td>...</td>\n",
       "      <td>...</td>\n",
       "      <td>...</td>\n",
       "    </tr>\n",
       "    <tr>\n",
       "      <th>95</th>\n",
       "      <td>2022-11-05 22:39:20</td>\n",
       "      <td>cu</td>\n",
       "      <td>2022-11-05 22:39:20</td>\n",
       "    </tr>\n",
       "    <tr>\n",
       "      <th>96</th>\n",
       "      <td>2022-10-19 15:32:53</td>\n",
       "      <td>cu</td>\n",
       "      <td>2022-10-19 15:32:53</td>\n",
       "    </tr>\n",
       "    <tr>\n",
       "      <th>97</th>\n",
       "      <td>2022-10-21 11:22:30</td>\n",
       "      <td>cu</td>\n",
       "      <td>2022-10-21 11:22:30</td>\n",
       "    </tr>\n",
       "    <tr>\n",
       "      <th>98</th>\n",
       "      <td>2022-10-19 15:10:26</td>\n",
       "      <td>cu</td>\n",
       "      <td>2022-10-19 15:10:26</td>\n",
       "    </tr>\n",
       "    <tr>\n",
       "      <th>99</th>\n",
       "      <td>2022-11-07 08:27:30</td>\n",
       "      <td>cu</td>\n",
       "      <td>2022-11-07 08:27:30</td>\n",
       "    </tr>\n",
       "  </tbody>\n",
       "</table>\n",
       "<p>100 rows × 3 columns</p>\n",
       "</div>"
      ],
      "text/plain": [
       "      Registration Time org   Registration_Time\n",
       "0   2022-10-19 13:43:15  cu 2022-10-19 13:43:15\n",
       "1   2022-10-19 18:53:05  cu 2022-10-19 18:53:05\n",
       "2   2022-10-27 09:56:39  cu 2022-10-27 09:56:39\n",
       "3   2022-10-25 13:45:37  cu 2022-10-25 13:45:37\n",
       "4   2022-10-20 09:37:27  cu 2022-10-20 09:37:27\n",
       "..                  ...  ..                 ...\n",
       "95  2022-11-05 22:39:20  cu 2022-11-05 22:39:20\n",
       "96  2022-10-19 15:32:53  cu 2022-10-19 15:32:53\n",
       "97  2022-10-21 11:22:30  cu 2022-10-21 11:22:30\n",
       "98  2022-10-19 15:10:26  cu 2022-10-19 15:10:26\n",
       "99  2022-11-07 08:27:30  cu 2022-11-07 08:27:30\n",
       "\n",
       "[100 rows x 3 columns]"
      ]
     },
     "execution_count": 92,
     "metadata": {},
     "output_type": "execute_result"
    }
   ],
   "source": [
    "df.head(100)"
   ]
  },
  {
   "cell_type": "code",
   "execution_count": 17,
   "id": "a6b4e9cc-b9ea-4171-94e2-55936cb6d634",
   "metadata": {},
   "outputs": [
    {
     "data": {
      "text/html": [
       "<div>\n",
       "<style scoped>\n",
       "    .dataframe tbody tr th:only-of-type {\n",
       "        vertical-align: middle;\n",
       "    }\n",
       "\n",
       "    .dataframe tbody tr th {\n",
       "        vertical-align: top;\n",
       "    }\n",
       "\n",
       "    .dataframe thead th {\n",
       "        text-align: right;\n",
       "    }\n",
       "</style>\n",
       "<table border=\"1\" class=\"dataframe\">\n",
       "  <thead>\n",
       "    <tr style=\"text-align: right;\">\n",
       "      <th></th>\n",
       "      <th>Registration Time</th>\n",
       "      <th>org</th>\n",
       "      <th>Registration_Time</th>\n",
       "    </tr>\n",
       "  </thead>\n",
       "  <tbody>\n",
       "    <tr>\n",
       "      <th>count</th>\n",
       "      <td>266</td>\n",
       "      <td>266</td>\n",
       "      <td>266</td>\n",
       "    </tr>\n",
       "    <tr>\n",
       "      <th>unique</th>\n",
       "      <td>266</td>\n",
       "      <td>3</td>\n",
       "      <td>NaN</td>\n",
       "    </tr>\n",
       "    <tr>\n",
       "      <th>top</th>\n",
       "      <td>2022-10-19 13:43:15</td>\n",
       "      <td>wcm</td>\n",
       "      <td>NaN</td>\n",
       "    </tr>\n",
       "    <tr>\n",
       "      <th>freq</th>\n",
       "      <td>1</td>\n",
       "      <td>136</td>\n",
       "      <td>NaN</td>\n",
       "    </tr>\n",
       "    <tr>\n",
       "      <th>mean</th>\n",
       "      <td>NaN</td>\n",
       "      <td>NaN</td>\n",
       "      <td>2022-10-23 23:35:12.714285568</td>\n",
       "    </tr>\n",
       "    <tr>\n",
       "      <th>min</th>\n",
       "      <td>NaN</td>\n",
       "      <td>NaN</td>\n",
       "      <td>2022-10-18 13:04:49</td>\n",
       "    </tr>\n",
       "    <tr>\n",
       "      <th>25%</th>\n",
       "      <td>NaN</td>\n",
       "      <td>NaN</td>\n",
       "      <td>2022-10-19 13:28:39.750000128</td>\n",
       "    </tr>\n",
       "    <tr>\n",
       "      <th>50%</th>\n",
       "      <td>NaN</td>\n",
       "      <td>NaN</td>\n",
       "      <td>2022-10-20 11:08:16.500000</td>\n",
       "    </tr>\n",
       "    <tr>\n",
       "      <th>75%</th>\n",
       "      <td>NaN</td>\n",
       "      <td>NaN</td>\n",
       "      <td>2022-10-27 14:41:17.500000</td>\n",
       "    </tr>\n",
       "    <tr>\n",
       "      <th>max</th>\n",
       "      <td>NaN</td>\n",
       "      <td>NaN</td>\n",
       "      <td>2022-11-07 14:48:17</td>\n",
       "    </tr>\n",
       "  </tbody>\n",
       "</table>\n",
       "</div>"
      ],
      "text/plain": [
       "          Registration Time  org              Registration_Time\n",
       "count                   266  266                            266\n",
       "unique                  266    3                            NaN\n",
       "top     2022-10-19 13:43:15  wcm                            NaN\n",
       "freq                      1  136                            NaN\n",
       "mean                    NaN  NaN  2022-10-23 23:35:12.714285568\n",
       "min                     NaN  NaN            2022-10-18 13:04:49\n",
       "25%                     NaN  NaN  2022-10-19 13:28:39.750000128\n",
       "50%                     NaN  NaN     2022-10-20 11:08:16.500000\n",
       "75%                     NaN  NaN     2022-10-27 14:41:17.500000\n",
       "max                     NaN  NaN            2022-11-07 14:48:17"
      ]
     },
     "execution_count": 17,
     "metadata": {},
     "output_type": "execute_result"
    }
   ],
   "source": [
    "df.describe(include='all')"
   ]
  },
  {
   "cell_type": "markdown",
   "id": "879e32cd-34bd-456a-8ad9-436abbe3fee8",
   "metadata": {},
   "source": [
    "### Plot data"
   ]
  },
  {
   "cell_type": "code",
   "execution_count": 131,
   "id": "81f31b02-cf37-4297-8eab-1995b3bdf8ff",
   "metadata": {},
   "outputs": [],
   "source": [
    "start_t =  pd.to_datetime('2022-10-18 13:00:00', utc=False)\n",
    "stop_t = pd.to_datetime('2022-10-20 13:00:00', utc=False)\n",
    "\n",
    "start_t =  pd.to_datetime('2022-10-19 1:00:00', utc=False)\n",
    "stop_t = pd.to_datetime('2022-10-20 01:00:00', utc=False)\n",
    "\n",
    "#pandas to manipulate data\n",
    "plot_df = (\n",
    "    df\n",
    "    .sort_values(\"Registration_Time\")\n",
    "    .query(\"(Registration_Time >= @start_t) & (Registration_Time <= @stop_t)\")\n",
    ")"
   ]
  },
  {
   "cell_type": "code",
   "execution_count": 132,
   "id": "b8f840d8-452b-457b-b1e7-5bf2713bd6e8",
   "metadata": {},
   "outputs": [
    {
     "data": {
      "text/plain": [
       "Registration Time            object\n",
       "org                        category\n",
       "Registration_Time    datetime64[ns]\n",
       "dtype: object"
      ]
     },
     "execution_count": 132,
     "metadata": {},
     "output_type": "execute_result"
    },
    {
     "data": {
      "text/plain": [
       "Registration Time            object\n",
       "org                        category\n",
       "Registration_Time    datetime64[ns]\n",
       "dtype: object"
      ]
     },
     "execution_count": 132,
     "metadata": {},
     "output_type": "execute_result"
    }
   ],
   "source": [
    "df.dtypes\n",
    "plot_df.dtypes"
   ]
  },
  {
   "cell_type": "code",
   "execution_count": 148,
   "id": "6159b10a-50b8-40e1-8453-7b35422dd070",
   "metadata": {
    "scrolled": true
   },
   "outputs": [
    {
     "ename": "TypeError",
     "evalue": "can't compare offset-naive and offset-aware datetimes",
     "output_type": "error",
     "traceback": [
      "\u001b[0;31m---------------------------------------------------------------------------\u001b[0m",
      "\u001b[0;31mTypeError\u001b[0m                                 Traceback (most recent call last)",
      "Cell \u001b[0;32mIn[148], line 24\u001b[0m\n\u001b[1;32m     12\u001b[0m \u001b[38;5;66;03m# plotnine to plot (using grammar of graphics like ggplot2)\u001b[39;00m\n\u001b[1;32m     13\u001b[0m plot \u001b[38;5;241m=\u001b[39m (\n\u001b[1;32m     14\u001b[0m     gg\u001b[38;5;241m.\u001b[39mggplot(plot_df, gg\u001b[38;5;241m.\u001b[39maes(x\u001b[38;5;241m=\u001b[39m\u001b[38;5;124m'\u001b[39m\u001b[38;5;124mRegistration_Time\u001b[39m\u001b[38;5;124m'\u001b[39m, fill\u001b[38;5;241m=\u001b[39m\u001b[38;5;124m'\u001b[39m\u001b[38;5;124morg\u001b[39m\u001b[38;5;124m'\u001b[39m))\n\u001b[1;32m     15\u001b[0m     \u001b[38;5;241m+\u001b[39m gg\u001b[38;5;241m.\u001b[39mgeom_histogram(binwidth\u001b[38;5;241m=\u001b[39m\u001b[38;5;241m4\u001b[39m\u001b[38;5;241m/\u001b[39m\u001b[38;5;241m24\u001b[39m, position\u001b[38;5;241m=\u001b[39m\u001b[38;5;124m'\u001b[39m\u001b[38;5;124mstack\u001b[39m\u001b[38;5;124m'\u001b[39m, color\u001b[38;5;241m=\u001b[39m\u001b[38;5;124m'\u001b[39m\u001b[38;5;124mblack\u001b[39m\u001b[38;5;124m'\u001b[39m, show_legend\u001b[38;5;241m=\u001b[39m\u001b[38;5;28;01mFalse\u001b[39;00m)\n\u001b[0;32m   (...)\u001b[0m\n\u001b[1;32m     22\u001b[0m     \u001b[38;5;241m+\u001b[39m gg\u001b[38;5;241m.\u001b[39mggtitle(\u001b[38;5;124m\"\u001b[39m\u001b[38;5;124mRegistrations for R workshop in first 48 hours\u001b[39m\u001b[38;5;124m\"\u001b[39m)\n\u001b[1;32m     23\u001b[0m )\n\u001b[0;32m---> 24\u001b[0m \u001b[43mplot\u001b[49m\u001b[38;5;241;43m.\u001b[39;49m\u001b[43mshow\u001b[49m\u001b[43m(\u001b[49m\u001b[43m)\u001b[49m\n",
      "File \u001b[0;32m~/miniconda3/envs/scu/lib/python3.13/site-packages/plotnine/ggplot.py:150\u001b[0m, in \u001b[0;36mggplot.show\u001b[0;34m(self)\u001b[0m\n\u001b[1;32m    143\u001b[0m \u001b[38;5;28;01mdef\u001b[39;00m \u001b[38;5;21mshow\u001b[39m(\u001b[38;5;28mself\u001b[39m):\n\u001b[1;32m    144\u001b[0m \u001b[38;5;250m    \u001b[39m\u001b[38;5;124;03m\"\"\"\u001b[39;00m\n\u001b[1;32m    145\u001b[0m \u001b[38;5;124;03m    Show plot using the matplotlib backend set by the user\u001b[39;00m\n\u001b[1;32m    146\u001b[0m \n\u001b[1;32m    147\u001b[0m \u001b[38;5;124;03m    Users should prefer this method instead of printing or repring\u001b[39;00m\n\u001b[1;32m    148\u001b[0m \u001b[38;5;124;03m    the object.\u001b[39;00m\n\u001b[1;32m    149\u001b[0m \u001b[38;5;124;03m    \"\"\"\u001b[39;00m\n\u001b[0;32m--> 150\u001b[0m     \u001b[38;5;28;43mself\u001b[39;49m\u001b[38;5;241;43m.\u001b[39;49m\u001b[43m_display\u001b[49m\u001b[43m(\u001b[49m\u001b[43m)\u001b[49m \u001b[38;5;28;01mif\u001b[39;00m is_inline_backend() \u001b[38;5;28;01melse\u001b[39;00m \u001b[38;5;28mself\u001b[39m\u001b[38;5;241m.\u001b[39mdraw(show\u001b[38;5;241m=\u001b[39m\u001b[38;5;28;01mTrue\u001b[39;00m)\n",
      "File \u001b[0;32m~/miniconda3/envs/scu/lib/python3.13/site-packages/plotnine/ggplot.py:175\u001b[0m, in \u001b[0;36mggplot._display\u001b[0;34m(self)\u001b[0m\n\u001b[1;32m    172\u001b[0m     save_format \u001b[38;5;241m=\u001b[39m \u001b[38;5;124m\"\u001b[39m\u001b[38;5;124mpng\u001b[39m\u001b[38;5;124m\"\u001b[39m\n\u001b[1;32m    174\u001b[0m buf \u001b[38;5;241m=\u001b[39m BytesIO()\n\u001b[0;32m--> 175\u001b[0m \u001b[38;5;28;43mself\u001b[39;49m\u001b[38;5;241;43m.\u001b[39;49m\u001b[43msave\u001b[49m\u001b[43m(\u001b[49m\u001b[43mbuf\u001b[49m\u001b[43m,\u001b[49m\u001b[43m \u001b[49m\u001b[38;5;28;43mformat\u001b[39;49m\u001b[38;5;241;43m=\u001b[39;49m\u001b[43msave_format\u001b[49m\u001b[43m,\u001b[49m\u001b[43m \u001b[49m\u001b[43mverbose\u001b[49m\u001b[38;5;241;43m=\u001b[39;49m\u001b[38;5;28;43;01mFalse\u001b[39;49;00m\u001b[43m)\u001b[49m\n\u001b[1;32m    176\u001b[0m display_func \u001b[38;5;241m=\u001b[39m get_display_function(\u001b[38;5;28mformat\u001b[39m)\n\u001b[1;32m    177\u001b[0m display_func(buf\u001b[38;5;241m.\u001b[39mgetvalue())\n",
      "File \u001b[0;32m~/miniconda3/envs/scu/lib/python3.13/site-packages/plotnine/ggplot.py:663\u001b[0m, in \u001b[0;36mggplot.save\u001b[0;34m(self, filename, format, path, width, height, units, dpi, limitsize, verbose, **kwargs)\u001b[0m\n\u001b[1;32m    615\u001b[0m \u001b[38;5;28;01mdef\u001b[39;00m \u001b[38;5;21msave\u001b[39m(\n\u001b[1;32m    616\u001b[0m     \u001b[38;5;28mself\u001b[39m,\n\u001b[1;32m    617\u001b[0m     filename: Optional[\u001b[38;5;28mstr\u001b[39m \u001b[38;5;241m|\u001b[39m Path \u001b[38;5;241m|\u001b[39m BytesIO] \u001b[38;5;241m=\u001b[39m \u001b[38;5;28;01mNone\u001b[39;00m,\n\u001b[0;32m   (...)\u001b[0m\n\u001b[1;32m    626\u001b[0m     \u001b[38;5;241m*\u001b[39m\u001b[38;5;241m*\u001b[39mkwargs: Any,\n\u001b[1;32m    627\u001b[0m ):\n\u001b[1;32m    628\u001b[0m \u001b[38;5;250m    \u001b[39m\u001b[38;5;124;03m\"\"\"\u001b[39;00m\n\u001b[1;32m    629\u001b[0m \u001b[38;5;124;03m    Save a ggplot object as an image file\u001b[39;00m\n\u001b[1;32m    630\u001b[0m \n\u001b[0;32m   (...)\u001b[0m\n\u001b[1;32m    661\u001b[0m \u001b[38;5;124;03m        Additional arguments to pass to matplotlib `savefig()`.\u001b[39;00m\n\u001b[1;32m    662\u001b[0m \u001b[38;5;124;03m    \"\"\"\u001b[39;00m\n\u001b[0;32m--> 663\u001b[0m     sv \u001b[38;5;241m=\u001b[39m \u001b[38;5;28;43mself\u001b[39;49m\u001b[38;5;241;43m.\u001b[39;49m\u001b[43msave_helper\u001b[49m\u001b[43m(\u001b[49m\n\u001b[1;32m    664\u001b[0m \u001b[43m        \u001b[49m\u001b[43mfilename\u001b[49m\u001b[38;5;241;43m=\u001b[39;49m\u001b[43mfilename\u001b[49m\u001b[43m,\u001b[49m\n\u001b[1;32m    665\u001b[0m \u001b[43m        \u001b[49m\u001b[38;5;28;43mformat\u001b[39;49m\u001b[38;5;241;43m=\u001b[39;49m\u001b[38;5;28;43mformat\u001b[39;49m\u001b[43m,\u001b[49m\n\u001b[1;32m    666\u001b[0m \u001b[43m        \u001b[49m\u001b[43mpath\u001b[49m\u001b[38;5;241;43m=\u001b[39;49m\u001b[43mpath\u001b[49m\u001b[43m,\u001b[49m\n\u001b[1;32m    667\u001b[0m \u001b[43m        \u001b[49m\u001b[43mwidth\u001b[49m\u001b[38;5;241;43m=\u001b[39;49m\u001b[43mwidth\u001b[49m\u001b[43m,\u001b[49m\n\u001b[1;32m    668\u001b[0m \u001b[43m        \u001b[49m\u001b[43mheight\u001b[49m\u001b[38;5;241;43m=\u001b[39;49m\u001b[43mheight\u001b[49m\u001b[43m,\u001b[49m\n\u001b[1;32m    669\u001b[0m \u001b[43m        \u001b[49m\u001b[43munits\u001b[49m\u001b[38;5;241;43m=\u001b[39;49m\u001b[43munits\u001b[49m\u001b[43m,\u001b[49m\n\u001b[1;32m    670\u001b[0m \u001b[43m        \u001b[49m\u001b[43mdpi\u001b[49m\u001b[38;5;241;43m=\u001b[39;49m\u001b[43mdpi\u001b[49m\u001b[43m,\u001b[49m\n\u001b[1;32m    671\u001b[0m \u001b[43m        \u001b[49m\u001b[43mlimitsize\u001b[49m\u001b[38;5;241;43m=\u001b[39;49m\u001b[43mlimitsize\u001b[49m\u001b[43m,\u001b[49m\n\u001b[1;32m    672\u001b[0m \u001b[43m        \u001b[49m\u001b[43mverbose\u001b[49m\u001b[38;5;241;43m=\u001b[39;49m\u001b[43mverbose\u001b[49m\u001b[43m,\u001b[49m\n\u001b[1;32m    673\u001b[0m \u001b[43m        \u001b[49m\u001b[38;5;241;43m*\u001b[39;49m\u001b[38;5;241;43m*\u001b[39;49m\u001b[43mkwargs\u001b[49m\u001b[43m,\u001b[49m\n\u001b[1;32m    674\u001b[0m \u001b[43m    \u001b[49m\u001b[43m)\u001b[49m\n\u001b[1;32m    676\u001b[0m     \u001b[38;5;28;01mwith\u001b[39;00m plot_context(\u001b[38;5;28mself\u001b[39m)\u001b[38;5;241m.\u001b[39mrc_context:\n\u001b[1;32m    677\u001b[0m         sv\u001b[38;5;241m.\u001b[39mfigure\u001b[38;5;241m.\u001b[39msavefig(\u001b[38;5;241m*\u001b[39m\u001b[38;5;241m*\u001b[39msv\u001b[38;5;241m.\u001b[39mkwargs)\n",
      "File \u001b[0;32m~/miniconda3/envs/scu/lib/python3.13/site-packages/plotnine/ggplot.py:612\u001b[0m, in \u001b[0;36mggplot.save_helper\u001b[0;34m(self, filename, format, path, width, height, units, dpi, limitsize, verbose, **kwargs)\u001b[0m\n\u001b[1;32m    609\u001b[0m \u001b[38;5;28;01mif\u001b[39;00m dpi \u001b[38;5;129;01mis\u001b[39;00m \u001b[38;5;129;01mnot\u001b[39;00m \u001b[38;5;28;01mNone\u001b[39;00m:\n\u001b[1;32m    610\u001b[0m     \u001b[38;5;28mself\u001b[39m\u001b[38;5;241m.\u001b[39mtheme \u001b[38;5;241m=\u001b[39m \u001b[38;5;28mself\u001b[39m\u001b[38;5;241m.\u001b[39mtheme \u001b[38;5;241m+\u001b[39m theme(dpi\u001b[38;5;241m=\u001b[39mdpi)\n\u001b[0;32m--> 612\u001b[0m figure \u001b[38;5;241m=\u001b[39m \u001b[38;5;28;43mself\u001b[39;49m\u001b[38;5;241;43m.\u001b[39;49m\u001b[43mdraw\u001b[49m\u001b[43m(\u001b[49m\u001b[43mshow\u001b[49m\u001b[38;5;241;43m=\u001b[39;49m\u001b[38;5;28;43;01mFalse\u001b[39;49;00m\u001b[43m)\u001b[49m\n\u001b[1;32m    613\u001b[0m \u001b[38;5;28;01mreturn\u001b[39;00m mpl_save_view(figure, fig_kwargs)\n",
      "File \u001b[0;32m~/miniconda3/envs/scu/lib/python3.13/site-packages/plotnine/ggplot.py:272\u001b[0m, in \u001b[0;36mggplot.draw\u001b[0;34m(self, show)\u001b[0m\n\u001b[1;32m    270\u001b[0m \u001b[38;5;28mself\u001b[39m \u001b[38;5;241m=\u001b[39m deepcopy(\u001b[38;5;28mself\u001b[39m)\n\u001b[1;32m    271\u001b[0m \u001b[38;5;28;01mwith\u001b[39;00m plot_context(\u001b[38;5;28mself\u001b[39m, show\u001b[38;5;241m=\u001b[39mshow):\n\u001b[0;32m--> 272\u001b[0m     \u001b[38;5;28;43mself\u001b[39;49m\u001b[38;5;241;43m.\u001b[39;49m\u001b[43m_build\u001b[49m\u001b[43m(\u001b[49m\u001b[43m)\u001b[49m\n\u001b[1;32m    274\u001b[0m     \u001b[38;5;66;03m# setup\u001b[39;00m\n\u001b[1;32m    275\u001b[0m     \u001b[38;5;28mself\u001b[39m\u001b[38;5;241m.\u001b[39mfigure, \u001b[38;5;28mself\u001b[39m\u001b[38;5;241m.\u001b[39maxs \u001b[38;5;241m=\u001b[39m \u001b[38;5;28mself\u001b[39m\u001b[38;5;241m.\u001b[39mfacet\u001b[38;5;241m.\u001b[39msetup(\u001b[38;5;28mself\u001b[39m)\n",
      "File \u001b[0;32m~/miniconda3/envs/scu/lib/python3.13/site-packages/plotnine/ggplot.py:400\u001b[0m, in \u001b[0;36mggplot._build\u001b[0;34m(self)\u001b[0m\n\u001b[1;32m    397\u001b[0m     layers\u001b[38;5;241m.\u001b[39mmap(npscales)\n\u001b[1;32m    399\u001b[0m \u001b[38;5;66;03m# Train coordinate system\u001b[39;00m\n\u001b[0;32m--> 400\u001b[0m \u001b[43mlayout\u001b[49m\u001b[38;5;241;43m.\u001b[39;49m\u001b[43msetup_panel_params\u001b[49m\u001b[43m(\u001b[49m\u001b[38;5;28;43mself\u001b[39;49m\u001b[38;5;241;43m.\u001b[39;49m\u001b[43mcoordinates\u001b[49m\u001b[43m)\u001b[49m\n\u001b[1;32m    402\u001b[0m \u001b[38;5;66;03m# fill in the defaults\u001b[39;00m\n\u001b[1;32m    403\u001b[0m layers\u001b[38;5;241m.\u001b[39muse_defaults_after_scale()\n",
      "File \u001b[0;32m~/miniconda3/envs/scu/lib/python3.13/site-packages/plotnine/facets/layout.py:198\u001b[0m, in \u001b[0;36mLayout.setup_panel_params\u001b[0;34m(self, coord)\u001b[0m\n\u001b[1;32m    196\u001b[0m \u001b[38;5;28;01mfor\u001b[39;00m i, j \u001b[38;5;129;01min\u001b[39;00m \u001b[38;5;28mself\u001b[39m\u001b[38;5;241m.\u001b[39mlayout[cols]\u001b[38;5;241m.\u001b[39mitertuples(index\u001b[38;5;241m=\u001b[39m\u001b[38;5;28;01mFalse\u001b[39;00m):\n\u001b[1;32m    197\u001b[0m     i, j \u001b[38;5;241m=\u001b[39m i \u001b[38;5;241m-\u001b[39m \u001b[38;5;241m1\u001b[39m, j \u001b[38;5;241m-\u001b[39m \u001b[38;5;241m1\u001b[39m\n\u001b[0;32m--> 198\u001b[0m     params \u001b[38;5;241m=\u001b[39m \u001b[43mcoord\u001b[49m\u001b[38;5;241;43m.\u001b[39;49m\u001b[43msetup_panel_params\u001b[49m\u001b[43m(\u001b[49m\n\u001b[1;32m    199\u001b[0m \u001b[43m        \u001b[49m\u001b[38;5;28;43mself\u001b[39;49m\u001b[38;5;241;43m.\u001b[39;49m\u001b[43mpanel_scales_x\u001b[49m\u001b[43m[\u001b[49m\u001b[43mi\u001b[49m\u001b[43m]\u001b[49m\u001b[43m,\u001b[49m\u001b[43m \u001b[49m\u001b[38;5;28;43mself\u001b[39;49m\u001b[38;5;241;43m.\u001b[39;49m\u001b[43mpanel_scales_y\u001b[49m\u001b[43m[\u001b[49m\u001b[43mj\u001b[49m\u001b[43m]\u001b[49m\n\u001b[1;32m    200\u001b[0m \u001b[43m    \u001b[49m\u001b[43m)\u001b[49m\n\u001b[1;32m    201\u001b[0m     \u001b[38;5;28mself\u001b[39m\u001b[38;5;241m.\u001b[39mpanel_params\u001b[38;5;241m.\u001b[39mappend(params)\n",
      "File \u001b[0;32m~/miniconda3/envs/scu/lib/python3.13/site-packages/plotnine/coords/coord_cartesian.py:80\u001b[0m, in \u001b[0;36mcoord_cartesian.setup_panel_params\u001b[0;34m(self, scale_x, scale_y)\u001b[0m\n\u001b[1;32m     76\u001b[0m     sv \u001b[38;5;241m=\u001b[39m scale\u001b[38;5;241m.\u001b[39mview(limits\u001b[38;5;241m=\u001b[39mcoord_limits, \u001b[38;5;28mrange\u001b[39m\u001b[38;5;241m=\u001b[39mranges\u001b[38;5;241m.\u001b[39mrange)\n\u001b[1;32m     77\u001b[0m     \u001b[38;5;28;01mreturn\u001b[39;00m sv\n\u001b[1;32m     79\u001b[0m out \u001b[38;5;241m=\u001b[39m panel_view(\n\u001b[0;32m---> 80\u001b[0m     x\u001b[38;5;241m=\u001b[39m\u001b[43mget_scale_view\u001b[49m\u001b[43m(\u001b[49m\u001b[43mscale_x\u001b[49m\u001b[43m,\u001b[49m\u001b[43m \u001b[49m\u001b[38;5;28;43mself\u001b[39;49m\u001b[38;5;241;43m.\u001b[39;49m\u001b[43mlimits\u001b[49m\u001b[38;5;241;43m.\u001b[39;49m\u001b[43mx\u001b[49m\u001b[43m)\u001b[49m,\n\u001b[1;32m     81\u001b[0m     y\u001b[38;5;241m=\u001b[39mget_scale_view(scale_y, \u001b[38;5;28mself\u001b[39m\u001b[38;5;241m.\u001b[39mlimits\u001b[38;5;241m.\u001b[39my),\n\u001b[1;32m     82\u001b[0m )\n\u001b[1;32m     83\u001b[0m \u001b[38;5;28;01mreturn\u001b[39;00m out\n",
      "File \u001b[0;32m~/miniconda3/envs/scu/lib/python3.13/site-packages/plotnine/coords/coord_cartesian.py:76\u001b[0m, in \u001b[0;36mcoord_cartesian.setup_panel_params.<locals>.get_scale_view\u001b[0;34m(scale, coord_limits)\u001b[0m\n\u001b[1;32m     72\u001b[0m expansion \u001b[38;5;241m=\u001b[39m scale\u001b[38;5;241m.\u001b[39mdefault_expansion(expand\u001b[38;5;241m=\u001b[39m\u001b[38;5;28mself\u001b[39m\u001b[38;5;241m.\u001b[39mexpand)\n\u001b[1;32m     73\u001b[0m ranges \u001b[38;5;241m=\u001b[39m scale\u001b[38;5;241m.\u001b[39mexpand_limits(\n\u001b[1;32m     74\u001b[0m     scale\u001b[38;5;241m.\u001b[39mlimits, expansion, coord_limits, identity_trans\n\u001b[1;32m     75\u001b[0m )\n\u001b[0;32m---> 76\u001b[0m sv \u001b[38;5;241m=\u001b[39m \u001b[43mscale\u001b[49m\u001b[38;5;241;43m.\u001b[39;49m\u001b[43mview\u001b[49m\u001b[43m(\u001b[49m\u001b[43mlimits\u001b[49m\u001b[38;5;241;43m=\u001b[39;49m\u001b[43mcoord_limits\u001b[49m\u001b[43m,\u001b[49m\u001b[43m \u001b[49m\u001b[38;5;28;43mrange\u001b[39;49m\u001b[38;5;241;43m=\u001b[39;49m\u001b[43mranges\u001b[49m\u001b[38;5;241;43m.\u001b[39;49m\u001b[43mrange\u001b[49m\u001b[43m)\u001b[49m\n\u001b[1;32m     77\u001b[0m \u001b[38;5;28;01mreturn\u001b[39;00m sv\n",
      "File \u001b[0;32m~/miniconda3/envs/scu/lib/python3.13/site-packages/plotnine/scales/scale_continuous.py:302\u001b[0m, in \u001b[0;36mscale_continuous.view\u001b[0;34m(self, limits, range)\u001b[0m\n\u001b[1;32m    299\u001b[0m \u001b[38;5;28;01mif\u001b[39;00m \u001b[38;5;28mrange\u001b[39m \u001b[38;5;129;01mis\u001b[39;00m \u001b[38;5;28;01mNone\u001b[39;00m:\n\u001b[1;32m    300\u001b[0m     \u001b[38;5;28mrange\u001b[39m \u001b[38;5;241m=\u001b[39m \u001b[38;5;28mself\u001b[39m\u001b[38;5;241m.\u001b[39mdimension(limits\u001b[38;5;241m=\u001b[39mlimits)\n\u001b[0;32m--> 302\u001b[0m breaks \u001b[38;5;241m=\u001b[39m \u001b[38;5;28;43mself\u001b[39;49m\u001b[38;5;241;43m.\u001b[39;49m\u001b[43mget_bounded_breaks\u001b[49m\u001b[43m(\u001b[49m\u001b[38;5;28;43mrange\u001b[39;49m\u001b[43m)\u001b[49m\n\u001b[1;32m    303\u001b[0m labels \u001b[38;5;241m=\u001b[39m \u001b[38;5;28mself\u001b[39m\u001b[38;5;241m.\u001b[39mget_labels(breaks)\n\u001b[1;32m    305\u001b[0m ubreaks \u001b[38;5;241m=\u001b[39m \u001b[38;5;28mself\u001b[39m\u001b[38;5;241m.\u001b[39mget_breaks(\u001b[38;5;28mrange\u001b[39m)\n",
      "File \u001b[0;32m~/miniconda3/envs/scu/lib/python3.13/site-packages/plotnine/scales/scale_continuous.py:403\u001b[0m, in \u001b[0;36mscale_continuous.get_bounded_breaks\u001b[0;34m(self, limits)\u001b[0m\n\u001b[1;32m    401\u001b[0m \u001b[38;5;28;01mif\u001b[39;00m limits \u001b[38;5;129;01mis\u001b[39;00m \u001b[38;5;28;01mNone\u001b[39;00m:\n\u001b[1;32m    402\u001b[0m     limits \u001b[38;5;241m=\u001b[39m \u001b[38;5;28mself\u001b[39m\u001b[38;5;241m.\u001b[39mlimits\n\u001b[0;32m--> 403\u001b[0m breaks \u001b[38;5;241m=\u001b[39m \u001b[38;5;28;43mself\u001b[39;49m\u001b[38;5;241;43m.\u001b[39;49m\u001b[43mget_breaks\u001b[49m\u001b[43m(\u001b[49m\u001b[43mlimits\u001b[49m\u001b[43m)\u001b[49m\n\u001b[1;32m    404\u001b[0m strict_breaks \u001b[38;5;241m=\u001b[39m [b \u001b[38;5;28;01mfor\u001b[39;00m b \u001b[38;5;129;01min\u001b[39;00m breaks \u001b[38;5;28;01mif\u001b[39;00m limits[\u001b[38;5;241m0\u001b[39m] \u001b[38;5;241m<\u001b[39m\u001b[38;5;241m=\u001b[39m b \u001b[38;5;241m<\u001b[39m\u001b[38;5;241m=\u001b[39m limits[\u001b[38;5;241m1\u001b[39m]]\n\u001b[1;32m    405\u001b[0m \u001b[38;5;28;01mreturn\u001b[39;00m strict_breaks\n",
      "File \u001b[0;32m~/miniconda3/envs/scu/lib/python3.13/site-packages/plotnine/scales/scale_continuous.py:383\u001b[0m, in \u001b[0;36mscale_continuous.get_breaks\u001b[0;34m(self, limits)\u001b[0m\n\u001b[1;32m    379\u001b[0m     breaks \u001b[38;5;241m=\u001b[39m []\n\u001b[1;32m    380\u001b[0m \u001b[38;5;28;01melif\u001b[39;00m \u001b[38;5;28mself\u001b[39m\u001b[38;5;241m.\u001b[39mbreaks \u001b[38;5;129;01mis\u001b[39;00m \u001b[38;5;28;01mTrue\u001b[39;00m:\n\u001b[1;32m    381\u001b[0m     \u001b[38;5;66;03m# TODO: Fix this type mismatch in mizani with\u001b[39;00m\n\u001b[1;32m    382\u001b[0m     \u001b[38;5;66;03m# a typevar so that type-in = type-out\u001b[39;00m\n\u001b[0;32m--> 383\u001b[0m     _tlimits \u001b[38;5;241m=\u001b[39m \u001b[38;5;28;43mself\u001b[39;49m\u001b[38;5;241;43m.\u001b[39;49m\u001b[43mtrans\u001b[49m\u001b[38;5;241;43m.\u001b[39;49m\u001b[43mbreaks\u001b[49m\u001b[43m(\u001b[49m\u001b[43m_limits\u001b[49m\u001b[43m)\u001b[49m\n\u001b[1;32m    384\u001b[0m     breaks: ScaleContinuousBreaks \u001b[38;5;241m=\u001b[39m _tlimits  \u001b[38;5;66;03m# pyright: ignore\u001b[39;00m\n\u001b[1;32m    385\u001b[0m \u001b[38;5;28;01melif\u001b[39;00m zero_range(_limits):\n",
      "File \u001b[0;32m~/miniconda3/envs/scu/lib/python3.13/site-packages/mizani/transforms.py:224\u001b[0m, in \u001b[0;36mtrans.breaks\u001b[0;34m(self, limits)\u001b[0m\n\u001b[1;32m    218\u001b[0m \u001b[38;5;66;03m# clip the breaks to the domain,\u001b[39;00m\n\u001b[1;32m    219\u001b[0m \u001b[38;5;66;03m# e.g. probabilities will be in [0, 1] domain\u001b[39;00m\n\u001b[1;32m    220\u001b[0m limits \u001b[38;5;241m=\u001b[39m (\n\u001b[1;32m    221\u001b[0m     \u001b[38;5;28mmax\u001b[39m(\u001b[38;5;28mself\u001b[39m\u001b[38;5;241m.\u001b[39mdomain[\u001b[38;5;241m0\u001b[39m], limits[\u001b[38;5;241m0\u001b[39m]),\n\u001b[1;32m    222\u001b[0m     \u001b[38;5;28mmin\u001b[39m(\u001b[38;5;28mself\u001b[39m\u001b[38;5;241m.\u001b[39mdomain[\u001b[38;5;241m1\u001b[39m], limits[\u001b[38;5;241m1\u001b[39m]),\n\u001b[1;32m    223\u001b[0m )\n\u001b[0;32m--> 224\u001b[0m breaks \u001b[38;5;241m=\u001b[39m np\u001b[38;5;241m.\u001b[39masarray(\u001b[38;5;28;43mself\u001b[39;49m\u001b[38;5;241;43m.\u001b[39;49m\u001b[43mbreaks_\u001b[49m\u001b[43m(\u001b[49m\u001b[43mlimits\u001b[49m\u001b[43m)\u001b[49m)\n\u001b[1;32m    226\u001b[0m \u001b[38;5;66;03m# Some methods (e.g. breaks_extended) that\u001b[39;00m\n\u001b[1;32m    227\u001b[0m \u001b[38;5;66;03m# calculate breaks take the limits as guide posts and\u001b[39;00m\n\u001b[1;32m    228\u001b[0m \u001b[38;5;66;03m# not hard limits.\u001b[39;00m\n\u001b[1;32m    229\u001b[0m breaks \u001b[38;5;241m=\u001b[39m breaks\u001b[38;5;241m.\u001b[39mcompress(\n\u001b[1;32m    230\u001b[0m     (breaks \u001b[38;5;241m>\u001b[39m\u001b[38;5;241m=\u001b[39m \u001b[38;5;28mself\u001b[39m\u001b[38;5;241m.\u001b[39mdomain[\u001b[38;5;241m0\u001b[39m]) \u001b[38;5;241m&\u001b[39m (breaks \u001b[38;5;241m<\u001b[39m\u001b[38;5;241m=\u001b[39m \u001b[38;5;28mself\u001b[39m\u001b[38;5;241m.\u001b[39mdomain[\u001b[38;5;241m1\u001b[39m])\n\u001b[1;32m    231\u001b[0m )\n",
      "File \u001b[0;32m~/miniconda3/envs/scu/lib/python3.13/site-packages/mizani/breaks.py:481\u001b[0m, in \u001b[0;36mbreaks_date.__call__\u001b[0;34m(self, limits)\u001b[0m\n\u001b[1;32m    477\u001b[0m     \u001b[38;5;28;01mreturn\u001b[39;00m calculate_date_breaks_byunits(\n\u001b[1;32m    478\u001b[0m         limits, \u001b[38;5;28mself\u001b[39m\u001b[38;5;241m.\u001b[39munits, \u001b[38;5;28mself\u001b[39m\u001b[38;5;241m.\u001b[39mwidth\n\u001b[1;32m    479\u001b[0m     )\n\u001b[1;32m    480\u001b[0m \u001b[38;5;28;01melse\u001b[39;00m:\n\u001b[0;32m--> 481\u001b[0m     \u001b[38;5;28;01mreturn\u001b[39;00m \u001b[43mcalculate_date_breaks_auto\u001b[49m\u001b[43m(\u001b[49m\u001b[43mlimits\u001b[49m\u001b[43m,\u001b[49m\u001b[43m \u001b[49m\u001b[38;5;28;43mself\u001b[39;49m\u001b[38;5;241;43m.\u001b[39;49m\u001b[43mn\u001b[49m\u001b[43m)\u001b[49m\n",
      "File \u001b[0;32m~/miniconda3/envs/scu/lib/python3.13/site-packages/mizani/_core/dates.py:280\u001b[0m, in \u001b[0;36mcalculate_date_breaks_auto\u001b[0;34m(limits, n)\u001b[0m\n\u001b[1;32m    276\u001b[0m \u001b[38;5;28;01mdef\u001b[39;00m \u001b[38;5;21mcalculate_date_breaks_auto\u001b[39m(limits, n: \u001b[38;5;28mint\u001b[39m \u001b[38;5;241m=\u001b[39m \u001b[38;5;241m5\u001b[39m) \u001b[38;5;241m-\u001b[39m\u001b[38;5;241m>\u001b[39m Sequence[datetime]:\n\u001b[1;32m    277\u001b[0m \u001b[38;5;250m    \u001b[39m\u001b[38;5;124;03m\"\"\"\u001b[39;00m\n\u001b[1;32m    278\u001b[0m \u001b[38;5;124;03m    Calcuate date breaks using appropriate units\u001b[39;00m\n\u001b[1;32m    279\u001b[0m \u001b[38;5;124;03m    \"\"\"\u001b[39;00m\n\u001b[0;32m--> 280\u001b[0m     info \u001b[38;5;241m=\u001b[39m \u001b[43mcalculate_date_breaks_info\u001b[49m\u001b[43m(\u001b[49m\u001b[43mlimits\u001b[49m\u001b[43m,\u001b[49m\u001b[43m \u001b[49m\u001b[43mn\u001b[49m\u001b[38;5;241;43m=\u001b[39;49m\u001b[43mn\u001b[49m\u001b[43m)\u001b[49m\n\u001b[1;32m    281\u001b[0m     lookup \u001b[38;5;241m=\u001b[39m {\n\u001b[1;32m    282\u001b[0m         DF\u001b[38;5;241m.\u001b[39mYEARLY: yearly_breaks,\n\u001b[1;32m    283\u001b[0m         DF\u001b[38;5;241m.\u001b[39mMONTHLY: monthly_breaks,\n\u001b[0;32m   (...)\u001b[0m\n\u001b[1;32m    288\u001b[0m         DF\u001b[38;5;241m.\u001b[39mMICROSECONDLY: microsecondly_breaks,\n\u001b[1;32m    289\u001b[0m     }\n\u001b[1;32m    290\u001b[0m     \u001b[38;5;28;01mreturn\u001b[39;00m lookup[info\u001b[38;5;241m.\u001b[39mfrequency](info)\n",
      "File \u001b[0;32m~/miniconda3/envs/scu/lib/python3.13/site-packages/mizani/_core/dates.py:232\u001b[0m, in \u001b[0;36mcalculate_date_breaks_info\u001b[0;34m(limits, n)\u001b[0m\n\u001b[1;32m    225\u001b[0m \u001b[38;5;66;03m# Widen the duration at each granularity\u001b[39;00m\n\u001b[1;32m    226\u001b[0m itv \u001b[38;5;241m=\u001b[39m Interval(\u001b[38;5;241m*\u001b[39mlimits)\n\u001b[1;32m    227\u001b[0m unit_durations \u001b[38;5;241m=\u001b[39m (\n\u001b[1;32m    228\u001b[0m     itv\u001b[38;5;241m.\u001b[39my_wide,\n\u001b[1;32m    229\u001b[0m     itv\u001b[38;5;241m.\u001b[39mM_wide,\n\u001b[1;32m    230\u001b[0m     itv\u001b[38;5;241m.\u001b[39md_wide,\n\u001b[1;32m    231\u001b[0m     itv\u001b[38;5;241m.\u001b[39mh_wide,\n\u001b[0;32m--> 232\u001b[0m     \u001b[43mitv\u001b[49m\u001b[38;5;241;43m.\u001b[39;49m\u001b[43mm_wide\u001b[49m,\n\u001b[1;32m    233\u001b[0m     itv\u001b[38;5;241m.\u001b[39ms,\n\u001b[1;32m    234\u001b[0m     itv\u001b[38;5;241m.\u001b[39mu,\n\u001b[1;32m    235\u001b[0m )\n\u001b[1;32m    236\u001b[0m \u001b[38;5;66;03m# Search frequencies from longest (yearly) to the smallest\u001b[39;00m\n\u001b[1;32m    237\u001b[0m \u001b[38;5;66;03m# for one that would a good width between the breaks\u001b[39;00m\n\u001b[1;32m    238\u001b[0m \n\u001b[1;32m    239\u001b[0m \u001b[38;5;66;03m# Defaults\u001b[39;00m\n\u001b[1;32m    240\u001b[0m freq \u001b[38;5;241m=\u001b[39m DF\u001b[38;5;241m.\u001b[39mYEARLY  \u001b[38;5;66;03m# makes pyright happy\u001b[39;00m\n",
      "File \u001b[0;32m~/miniconda3/envs/scu/lib/python3.13/site-packages/mizani/_core/date_utils.py:131\u001b[0m, in \u001b[0;36mInterval.m_wide\u001b[0;34m(self)\u001b[0m\n\u001b[1;32m    126\u001b[0m \u001b[38;5;129m@property\u001b[39m\n\u001b[1;32m    127\u001b[0m \u001b[38;5;28;01mdef\u001b[39;00m \u001b[38;5;21mm_wide\u001b[39m(\u001b[38;5;28mself\u001b[39m) \u001b[38;5;241m-\u001b[39m\u001b[38;5;241m>\u001b[39m \u001b[38;5;28mint\u001b[39m:\n\u001b[1;32m    128\u001b[0m \u001b[38;5;250m    \u001b[39m\u001b[38;5;124;03m\"\"\"\u001b[39;00m\n\u001b[1;32m    129\u001b[0m \u001b[38;5;124;03m    Minutes (enclosing the original)\u001b[39;00m\n\u001b[1;32m    130\u001b[0m \u001b[38;5;124;03m    \"\"\"\u001b[39;00m\n\u001b[0;32m--> 131\u001b[0m     \u001b[38;5;28;01mreturn\u001b[39;00m \u001b[43mInterval\u001b[49m\u001b[43m(\u001b[49m\u001b[38;5;241;43m*\u001b[39;49m\u001b[38;5;28;43mself\u001b[39;49m\u001b[38;5;241;43m.\u001b[39;49m\u001b[43mlimits_minute\u001b[49m\u001b[43m(\u001b[49m\u001b[43m)\u001b[49m\u001b[43m)\u001b[49m\u001b[38;5;241m.\u001b[39mm\n",
      "File \u001b[0;32m<string>:5\u001b[0m, in \u001b[0;36m__init__\u001b[0;34m(self, start, end)\u001b[0m\n",
      "File \u001b[0;32m~/miniconda3/envs/scu/lib/python3.13/site-packages/mizani/_core/date_utils.py:46\u001b[0m, in \u001b[0;36mInterval.__post_init__\u001b[0;34m(self)\u001b[0m\n\u001b[1;32m     43\u001b[0m \u001b[38;5;28;01mif\u001b[39;00m \u001b[38;5;28misinstance\u001b[39m(\u001b[38;5;28mself\u001b[39m\u001b[38;5;241m.\u001b[39mend, date):\n\u001b[1;32m     44\u001b[0m     \u001b[38;5;28mself\u001b[39m\u001b[38;5;241m.\u001b[39mend \u001b[38;5;241m=\u001b[39m datetime\u001b[38;5;241m.\u001b[39mfromisoformat(\u001b[38;5;28mself\u001b[39m\u001b[38;5;241m.\u001b[39mend\u001b[38;5;241m.\u001b[39misoformat())\n\u001b[0;32m---> 46\u001b[0m \u001b[38;5;28mself\u001b[39m\u001b[38;5;241m.\u001b[39m_delta \u001b[38;5;241m=\u001b[39m \u001b[43mrelativedelta\u001b[49m\u001b[43m(\u001b[49m\u001b[38;5;28;43mself\u001b[39;49m\u001b[38;5;241;43m.\u001b[39;49m\u001b[43mend\u001b[49m\u001b[43m,\u001b[49m\u001b[43m \u001b[49m\u001b[38;5;28;43mself\u001b[39;49m\u001b[38;5;241;43m.\u001b[39;49m\u001b[43mstart\u001b[49m\u001b[43m)\u001b[49m\n\u001b[1;32m     47\u001b[0m \u001b[38;5;28mself\u001b[39m\u001b[38;5;241m.\u001b[39m_tdelta \u001b[38;5;241m=\u001b[39m \u001b[38;5;28mself\u001b[39m\u001b[38;5;241m.\u001b[39mend \u001b[38;5;241m-\u001b[39m \u001b[38;5;28mself\u001b[39m\u001b[38;5;241m.\u001b[39mstart\n",
      "File \u001b[0;32m~/miniconda3/envs/scu/lib/python3.13/site-packages/dateutil/relativedelta.py:154\u001b[0m, in \u001b[0;36mrelativedelta.__init__\u001b[0;34m(self, dt1, dt2, years, months, days, leapdays, weeks, hours, minutes, seconds, microseconds, year, month, day, weekday, yearday, nlyearday, hour, minute, second, microsecond)\u001b[0m\n\u001b[1;32m    151\u001b[0m dtm \u001b[38;5;241m=\u001b[39m \u001b[38;5;28mself\u001b[39m\u001b[38;5;241m.\u001b[39m\u001b[38;5;21m__radd__\u001b[39m(dt2)\n\u001b[1;32m    153\u001b[0m \u001b[38;5;66;03m# If we've overshot our target, make an adjustment\u001b[39;00m\n\u001b[0;32m--> 154\u001b[0m \u001b[38;5;28;01mif\u001b[39;00m \u001b[43mdt1\u001b[49m\u001b[43m \u001b[49m\u001b[38;5;241;43m<\u001b[39;49m\u001b[43m \u001b[49m\u001b[43mdt2\u001b[49m:\n\u001b[1;32m    155\u001b[0m     compare \u001b[38;5;241m=\u001b[39m operator\u001b[38;5;241m.\u001b[39mgt\n\u001b[1;32m    156\u001b[0m     increment \u001b[38;5;241m=\u001b[39m \u001b[38;5;241m1\u001b[39m\n",
      "\u001b[0;31mTypeError\u001b[0m: can't compare offset-naive and offset-aware datetimes"
     ]
    }
   ],
   "source": [
    "start_t =  pd.to_datetime('2022-10-19 04:00:00', utc=False)\n",
    "stop_t = pd.to_datetime('2022-10-19 23:00:00', utc=False)\n",
    "\n",
    "#pandas to manipulate data\n",
    "plot_df = (\n",
    "    df\n",
    "    .sort_values(\"Registration_Time\")\n",
    "    .query(\"(Registration_Time >= @start_t) & (Registration_Time <= @stop_t)\")\n",
    ").iloc[::2]\n",
    "\n",
    "\n",
    "# plotnine to plot (using grammar of graphics like ggplot2)\n",
    "plot = (\n",
    "    gg.ggplot(plot_df, gg.aes(x='Registration_Time', fill='org'))\n",
    "    + gg.geom_histogram(binwidth=4/24, position='stack', color='black', show_legend=False)\n",
    "    + gg.facet_wrap('org')\n",
    "    + gg.theme_bw()\n",
    "    + gg.theme(figure_size=(9,6))\n",
    "    + gg.theme(axis_text_x=gg.element_text(angle=30, hjust=1))\n",
    "    + gg.xlab(\"Time\")\n",
    "    + gg.ylab(\"Registrations\") \n",
    "    + gg.ggtitle(\"Registrations for R workshop in first 48 hours\")\n",
    ")\n",
    "plot.show()"
   ]
  },
  {
   "cell_type": "code",
   "execution_count": 149,
   "id": "08700f27-d61b-46f4-9654-52fe2dacab93",
   "metadata": {},
   "outputs": [],
   "source": [
    "## Show save, download, export"
   ]
  },
  {
   "cell_type": "code",
   "execution_count": 150,
   "id": "5386315a-c028-4d13-a47a-2d24d8d9d338",
   "metadata": {},
   "outputs": [
    {
     "data": {
      "text/plain": [
       "0"
      ]
     },
     "execution_count": 150,
     "metadata": {},
     "output_type": "execute_result"
    },
    {
     "data": {
      "text/html": [
       "<div>\n",
       "<style scoped>\n",
       "    .dataframe tbody tr th:only-of-type {\n",
       "        vertical-align: middle;\n",
       "    }\n",
       "\n",
       "    .dataframe tbody tr th {\n",
       "        vertical-align: top;\n",
       "    }\n",
       "\n",
       "    .dataframe thead th {\n",
       "        text-align: right;\n",
       "    }\n",
       "</style>\n",
       "<table border=\"1\" class=\"dataframe\">\n",
       "  <thead>\n",
       "    <tr style=\"text-align: right;\">\n",
       "      <th></th>\n",
       "      <th>Registration Time</th>\n",
       "      <th>org</th>\n",
       "      <th>Registration_Time</th>\n",
       "    </tr>\n",
       "  </thead>\n",
       "  <tbody>\n",
       "    <tr>\n",
       "      <th>126</th>\n",
       "      <td>2022-10-19 04:42:04</td>\n",
       "      <td>other</td>\n",
       "      <td>2022-10-19 04:42:04</td>\n",
       "    </tr>\n",
       "    <tr>\n",
       "      <th>136</th>\n",
       "      <td>2022-10-19 08:44:47</td>\n",
       "      <td>wcm</td>\n",
       "      <td>2022-10-19 08:44:47</td>\n",
       "    </tr>\n",
       "    <tr>\n",
       "      <th>185</th>\n",
       "      <td>2022-10-19 09:02:58</td>\n",
       "      <td>wcm</td>\n",
       "      <td>2022-10-19 09:02:58</td>\n",
       "    </tr>\n",
       "    <tr>\n",
       "      <th>133</th>\n",
       "      <td>2022-10-19 09:51:56</td>\n",
       "      <td>wcm</td>\n",
       "      <td>2022-10-19 09:51:56</td>\n",
       "    </tr>\n",
       "    <tr>\n",
       "      <th>260</th>\n",
       "      <td>2022-10-19 10:07:11</td>\n",
       "      <td>wcm</td>\n",
       "      <td>2022-10-19 10:07:11</td>\n",
       "    </tr>\n",
       "    <tr>\n",
       "      <th>202</th>\n",
       "      <td>2022-10-19 10:16:29</td>\n",
       "      <td>wcm</td>\n",
       "      <td>2022-10-19 10:16:29</td>\n",
       "    </tr>\n",
       "    <tr>\n",
       "      <th>90</th>\n",
       "      <td>2022-10-19 10:56:23</td>\n",
       "      <td>cu</td>\n",
       "      <td>2022-10-19 10:56:23</td>\n",
       "    </tr>\n",
       "    <tr>\n",
       "      <th>231</th>\n",
       "      <td>2022-10-19 11:11:36</td>\n",
       "      <td>wcm</td>\n",
       "      <td>2022-10-19 11:11:36</td>\n",
       "    </tr>\n",
       "    <tr>\n",
       "      <th>197</th>\n",
       "      <td>2022-10-19 11:31:27</td>\n",
       "      <td>wcm</td>\n",
       "      <td>2022-10-19 11:31:27</td>\n",
       "    </tr>\n",
       "    <tr>\n",
       "      <th>92</th>\n",
       "      <td>2022-10-19 12:16:54</td>\n",
       "      <td>cu</td>\n",
       "      <td>2022-10-19 12:16:54</td>\n",
       "    </tr>\n",
       "    <tr>\n",
       "      <th>144</th>\n",
       "      <td>2022-10-19 13:27:09</td>\n",
       "      <td>wcm</td>\n",
       "      <td>2022-10-19 13:27:09</td>\n",
       "    </tr>\n",
       "    <tr>\n",
       "      <th>107</th>\n",
       "      <td>2022-10-19 13:39:06</td>\n",
       "      <td>cu</td>\n",
       "      <td>2022-10-19 13:39:06</td>\n",
       "    </tr>\n",
       "    <tr>\n",
       "      <th>0</th>\n",
       "      <td>2022-10-19 13:43:15</td>\n",
       "      <td>cu</td>\n",
       "      <td>2022-10-19 13:43:15</td>\n",
       "    </tr>\n",
       "    <tr>\n",
       "      <th>53</th>\n",
       "      <td>2022-10-19 14:20:02</td>\n",
       "      <td>cu</td>\n",
       "      <td>2022-10-19 14:20:02</td>\n",
       "    </tr>\n",
       "    <tr>\n",
       "      <th>45</th>\n",
       "      <td>2022-10-19 14:28:28</td>\n",
       "      <td>cu</td>\n",
       "      <td>2022-10-19 14:28:28</td>\n",
       "    </tr>\n",
       "    <tr>\n",
       "      <th>63</th>\n",
       "      <td>2022-10-19 14:40:24</td>\n",
       "      <td>cu</td>\n",
       "      <td>2022-10-19 14:40:24</td>\n",
       "    </tr>\n",
       "    <tr>\n",
       "      <th>14</th>\n",
       "      <td>2022-10-19 14:51:08</td>\n",
       "      <td>cu</td>\n",
       "      <td>2022-10-19 14:51:08</td>\n",
       "    </tr>\n",
       "    <tr>\n",
       "      <th>89</th>\n",
       "      <td>2022-10-19 14:56:34</td>\n",
       "      <td>cu</td>\n",
       "      <td>2022-10-19 14:56:34</td>\n",
       "    </tr>\n",
       "    <tr>\n",
       "      <th>59</th>\n",
       "      <td>2022-10-19 14:57:15</td>\n",
       "      <td>cu</td>\n",
       "      <td>2022-10-19 14:57:15</td>\n",
       "    </tr>\n",
       "    <tr>\n",
       "      <th>98</th>\n",
       "      <td>2022-10-19 15:10:26</td>\n",
       "      <td>cu</td>\n",
       "      <td>2022-10-19 15:10:26</td>\n",
       "    </tr>\n",
       "    <tr>\n",
       "      <th>130</th>\n",
       "      <td>2022-10-19 15:20:31</td>\n",
       "      <td>wcm</td>\n",
       "      <td>2022-10-19 15:20:31</td>\n",
       "    </tr>\n",
       "    <tr>\n",
       "      <th>15</th>\n",
       "      <td>2022-10-19 15:22:44</td>\n",
       "      <td>cu</td>\n",
       "      <td>2022-10-19 15:22:44</td>\n",
       "    </tr>\n",
       "    <tr>\n",
       "      <th>31</th>\n",
       "      <td>2022-10-19 15:31:09</td>\n",
       "      <td>cu</td>\n",
       "      <td>2022-10-19 15:31:09</td>\n",
       "    </tr>\n",
       "    <tr>\n",
       "      <th>264</th>\n",
       "      <td>2022-10-19 15:33:51</td>\n",
       "      <td>wcm</td>\n",
       "      <td>2022-10-19 15:33:51</td>\n",
       "    </tr>\n",
       "    <tr>\n",
       "      <th>24</th>\n",
       "      <td>2022-10-19 15:36:56</td>\n",
       "      <td>cu</td>\n",
       "      <td>2022-10-19 15:36:56</td>\n",
       "    </tr>\n",
       "    <tr>\n",
       "      <th>193</th>\n",
       "      <td>2022-10-19 15:47:18</td>\n",
       "      <td>wcm</td>\n",
       "      <td>2022-10-19 15:47:18</td>\n",
       "    </tr>\n",
       "    <tr>\n",
       "      <th>68</th>\n",
       "      <td>2022-10-19 16:11:10</td>\n",
       "      <td>cu</td>\n",
       "      <td>2022-10-19 16:11:10</td>\n",
       "    </tr>\n",
       "    <tr>\n",
       "      <th>91</th>\n",
       "      <td>2022-10-19 16:23:01</td>\n",
       "      <td>cu</td>\n",
       "      <td>2022-10-19 16:23:01</td>\n",
       "    </tr>\n",
       "    <tr>\n",
       "      <th>57</th>\n",
       "      <td>2022-10-19 16:38:15</td>\n",
       "      <td>cu</td>\n",
       "      <td>2022-10-19 16:38:15</td>\n",
       "    </tr>\n",
       "    <tr>\n",
       "      <th>82</th>\n",
       "      <td>2022-10-19 16:54:16</td>\n",
       "      <td>cu</td>\n",
       "      <td>2022-10-19 16:54:16</td>\n",
       "    </tr>\n",
       "    <tr>\n",
       "      <th>22</th>\n",
       "      <td>2022-10-19 17:00:23</td>\n",
       "      <td>cu</td>\n",
       "      <td>2022-10-19 17:00:23</td>\n",
       "    </tr>\n",
       "    <tr>\n",
       "      <th>125</th>\n",
       "      <td>2022-10-19 17:14:08</td>\n",
       "      <td>other</td>\n",
       "      <td>2022-10-19 17:14:08</td>\n",
       "    </tr>\n",
       "    <tr>\n",
       "      <th>49</th>\n",
       "      <td>2022-10-19 17:31:47</td>\n",
       "      <td>cu</td>\n",
       "      <td>2022-10-19 17:31:47</td>\n",
       "    </tr>\n",
       "    <tr>\n",
       "      <th>108</th>\n",
       "      <td>2022-10-19 18:45:29</td>\n",
       "      <td>cu</td>\n",
       "      <td>2022-10-19 18:45:29</td>\n",
       "    </tr>\n",
       "    <tr>\n",
       "      <th>80</th>\n",
       "      <td>2022-10-19 19:31:09</td>\n",
       "      <td>cu</td>\n",
       "      <td>2022-10-19 19:31:09</td>\n",
       "    </tr>\n",
       "    <tr>\n",
       "      <th>52</th>\n",
       "      <td>2022-10-19 22:45:01</td>\n",
       "      <td>cu</td>\n",
       "      <td>2022-10-19 22:45:01</td>\n",
       "    </tr>\n",
       "  </tbody>\n",
       "</table>\n",
       "</div>"
      ],
      "text/plain": [
       "       Registration Time    org   Registration_Time\n",
       "126  2022-10-19 04:42:04  other 2022-10-19 04:42:04\n",
       "136  2022-10-19 08:44:47    wcm 2022-10-19 08:44:47\n",
       "185  2022-10-19 09:02:58    wcm 2022-10-19 09:02:58\n",
       "133  2022-10-19 09:51:56    wcm 2022-10-19 09:51:56\n",
       "260  2022-10-19 10:07:11    wcm 2022-10-19 10:07:11\n",
       "202  2022-10-19 10:16:29    wcm 2022-10-19 10:16:29\n",
       "90   2022-10-19 10:56:23     cu 2022-10-19 10:56:23\n",
       "231  2022-10-19 11:11:36    wcm 2022-10-19 11:11:36\n",
       "197  2022-10-19 11:31:27    wcm 2022-10-19 11:31:27\n",
       "92   2022-10-19 12:16:54     cu 2022-10-19 12:16:54\n",
       "144  2022-10-19 13:27:09    wcm 2022-10-19 13:27:09\n",
       "107  2022-10-19 13:39:06     cu 2022-10-19 13:39:06\n",
       "0    2022-10-19 13:43:15     cu 2022-10-19 13:43:15\n",
       "53   2022-10-19 14:20:02     cu 2022-10-19 14:20:02\n",
       "45   2022-10-19 14:28:28     cu 2022-10-19 14:28:28\n",
       "63   2022-10-19 14:40:24     cu 2022-10-19 14:40:24\n",
       "14   2022-10-19 14:51:08     cu 2022-10-19 14:51:08\n",
       "89   2022-10-19 14:56:34     cu 2022-10-19 14:56:34\n",
       "59   2022-10-19 14:57:15     cu 2022-10-19 14:57:15\n",
       "98   2022-10-19 15:10:26     cu 2022-10-19 15:10:26\n",
       "130  2022-10-19 15:20:31    wcm 2022-10-19 15:20:31\n",
       "15   2022-10-19 15:22:44     cu 2022-10-19 15:22:44\n",
       "31   2022-10-19 15:31:09     cu 2022-10-19 15:31:09\n",
       "264  2022-10-19 15:33:51    wcm 2022-10-19 15:33:51\n",
       "24   2022-10-19 15:36:56     cu 2022-10-19 15:36:56\n",
       "193  2022-10-19 15:47:18    wcm 2022-10-19 15:47:18\n",
       "68   2022-10-19 16:11:10     cu 2022-10-19 16:11:10\n",
       "91   2022-10-19 16:23:01     cu 2022-10-19 16:23:01\n",
       "57   2022-10-19 16:38:15     cu 2022-10-19 16:38:15\n",
       "82   2022-10-19 16:54:16     cu 2022-10-19 16:54:16\n",
       "22   2022-10-19 17:00:23     cu 2022-10-19 17:00:23\n",
       "125  2022-10-19 17:14:08  other 2022-10-19 17:14:08\n",
       "49   2022-10-19 17:31:47     cu 2022-10-19 17:31:47\n",
       "108  2022-10-19 18:45:29     cu 2022-10-19 18:45:29\n",
       "80   2022-10-19 19:31:09     cu 2022-10-19 19:31:09\n",
       "52   2022-10-19 22:45:01     cu 2022-10-19 22:45:01"
      ]
     },
     "execution_count": 150,
     "metadata": {},
     "output_type": "execute_result"
    }
   ],
   "source": [
    "sum(plot_df['Registration_Time'].apply(lambda x: x.utcoffset() is not None))\n",
    "plot_df.head(80)"
   ]
  },
  {
   "cell_type": "code",
   "execution_count": 49,
   "id": "400aafdf-4455-4e3b-afae-c1273ca4c2b6",
   "metadata": {},
   "outputs": [
    {
     "data": {
      "text/plain": [
       "Timestamp('2022-10-18 13:00:00')"
      ]
     },
     "execution_count": 49,
     "metadata": {},
     "output_type": "execute_result"
    },
    {
     "data": {
      "text/plain": [
       "Timestamp('2022-11-07 14:48:17')"
      ]
     },
     "execution_count": 49,
     "metadata": {},
     "output_type": "execute_result"
    }
   ],
   "source": [
    "start_t =  pd.to_datetime('2022-10-18 13:00:00', utc=False)\n",
    "stop_t = df['Registration_Time'].max() #pd.to_datetime('2022-10-20 13:00:00', utc=False)\n",
    "start_t\n",
    "stop_t\n"
   ]
  },
  {
   "cell_type": "code",
   "execution_count": 50,
   "id": "e73324a6-22d5-4bc6-becc-e1d7aa0c6dc4",
   "metadata": {},
   "outputs": [],
   "source": [
    "import dateutil\n",
    "import datetime\n",
    "import mizani"
   ]
  },
  {
   "cell_type": "code",
   "execution_count": 51,
   "id": "589afb9c-6f68-4586-934a-58aa9664e321",
   "metadata": {},
   "outputs": [
    {
     "data": {
      "text/plain": [
       "relativedelta(days=-20, hours=-1, minutes=-48, seconds=-17)"
      ]
     },
     "execution_count": 51,
     "metadata": {},
     "output_type": "execute_result"
    }
   ],
   "source": [
    "dateutil.relativedelta.relativedelta(start_t, stop_t)"
   ]
  },
  {
   "cell_type": "code",
   "execution_count": 52,
   "id": "71d7815f-0d06-4896-8916-d43af8a0301e",
   "metadata": {},
   "outputs": [
    {
     "data": {
      "text/plain": [
       "Timestamp('2022-10-18 13:00:00')"
      ]
     },
     "execution_count": 52,
     "metadata": {},
     "output_type": "execute_result"
    }
   ],
   "source": [
    "foo = datetime.datetime.fromisoformat(start_t.isoformat())\n",
    "foo.utcoffset()\n",
    "start_t"
   ]
  },
  {
   "cell_type": "code",
   "execution_count": 53,
   "id": "f67924e0-7b93-4211-b7be-9e5e5f7c3e12",
   "metadata": {},
   "outputs": [
    {
     "data": {
      "text/plain": [
       "Interval(start=datetime.datetime(2022, 10, 18, 13, 0), end=datetime.datetime(2022, 11, 7, 14, 48, 17))"
      ]
     },
     "execution_count": 53,
     "metadata": {},
     "output_type": "execute_result"
    },
    {
     "data": {
      "text/plain": [
       "(datetime.datetime(2022, 10, 18, 13, 0),\n",
       " datetime.datetime(2022, 11, 7, 14, 49))"
      ]
     },
     "execution_count": 53,
     "metadata": {},
     "output_type": "execute_result"
    }
   ],
   "source": [
    "foo = mizani._core.date_utils.Interval(start_t, stop_t)\n",
    "foo\n",
    "foo.limits_minute()"
   ]
  },
  {
   "cell_type": "code",
   "execution_count": null,
   "id": "1cdeecff-8dc3-4ef5-b599-810225a471ff",
   "metadata": {},
   "outputs": [],
   "source": []
  },
  {
   "cell_type": "code",
   "execution_count": null,
   "id": "e62f764f-dd33-41d5-9499-ad13db87cc39",
   "metadata": {},
   "outputs": [],
   "source": []
  },
  {
   "cell_type": "code",
   "execution_count": null,
   "id": "8be9dfb7-c864-404b-9092-b015087d8ea6",
   "metadata": {},
   "outputs": [],
   "source": []
  },
  {
   "cell_type": "code",
   "execution_count": 55,
   "id": "3d5ebe05-fc1b-4e48-b91d-d3954cbb02ed",
   "metadata": {},
   "outputs": [],
   "source": [
    "from plotnine.data import meat"
   ]
  },
  {
   "cell_type": "code",
   "execution_count": 61,
   "id": "a4f01c4c-a51c-476e-ba7f-f66c7d300810",
   "metadata": {},
   "outputs": [
    {
     "data": {
      "text/html": [
       "<div>\n",
       "<style scoped>\n",
       "    .dataframe tbody tr th:only-of-type {\n",
       "        vertical-align: middle;\n",
       "    }\n",
       "\n",
       "    .dataframe tbody tr th {\n",
       "        vertical-align: top;\n",
       "    }\n",
       "\n",
       "    .dataframe thead th {\n",
       "        text-align: right;\n",
       "    }\n",
       "</style>\n",
       "<table border=\"1\" class=\"dataframe\">\n",
       "  <thead>\n",
       "    <tr style=\"text-align: right;\">\n",
       "      <th></th>\n",
       "      <th>date</th>\n",
       "      <th>weight</th>\n",
       "    </tr>\n",
       "  </thead>\n",
       "  <tbody>\n",
       "    <tr>\n",
       "      <th>0</th>\n",
       "      <td>1944-01-01</td>\n",
       "      <td>2205.0</td>\n",
       "    </tr>\n",
       "    <tr>\n",
       "      <th>1</th>\n",
       "      <td>1944-02-01</td>\n",
       "      <td>2031.0</td>\n",
       "    </tr>\n",
       "    <tr>\n",
       "      <th>2</th>\n",
       "      <td>1944-03-01</td>\n",
       "      <td>2034.0</td>\n",
       "    </tr>\n",
       "    <tr>\n",
       "      <th>3</th>\n",
       "      <td>1944-04-01</td>\n",
       "      <td>1783.0</td>\n",
       "    </tr>\n",
       "    <tr>\n",
       "      <th>4</th>\n",
       "      <td>1944-05-01</td>\n",
       "      <td>1894.0</td>\n",
       "    </tr>\n",
       "  </tbody>\n",
       "</table>\n",
       "</div>"
      ],
      "text/plain": [
       "        date  weight\n",
       "0 1944-01-01  2205.0\n",
       "1 1944-02-01  2031.0\n",
       "2 1944-03-01  2034.0\n",
       "3 1944-04-01  1783.0\n",
       "4 1944-05-01  1894.0"
      ]
     },
     "execution_count": 61,
     "metadata": {},
     "output_type": "execute_result"
    }
   ],
   "source": [
    "meat_long = meat.melt(\n",
    "    id_vars=\"date\",\n",
    "    value_vars=[\"beef\", \"veal\", \"pork\", \"lamb_and_mutton\", \"broilers\", \"turkey\"],\n",
    "    var_name=\"animal\",\n",
    "    value_name=\"weight\"\n",
    ").dropna()\n",
    "\n",
    "meat_long_monthly_agg = meat_long.groupby(\"date\").agg({\"weight\": \"sum\"}).reset_index()\n",
    "meat_long_monthly_agg.head()\n",
    "meat_long_monthly_agg['date'] = pd.to_datetime(meat_long_monthly_agg['date'])"
   ]
  },
  {
   "cell_type": "code",
   "execution_count": 63,
   "id": "343b30aa-13b4-4c48-bc6a-b7166b376048",
   "metadata": {},
   "outputs": [
    {
     "data": {
      "image/png": "[encoded data removed]"
     },
     "metadata": {
      "image/png": {
       "height": 480,
       "width": 640
      }
     },
     "output_type": "display_data"
    }
   ],
   "source": [
    "m_start_t =  pd.to_datetime('1950-10-18 13:00:00', utc=False)\n",
    "m_stop_t = pd.to_datetime('1960-10-20 13:00:00', utc=False)\n",
    "\n",
    "plot_df = (\n",
    "    meat_long_monthly_agg\n",
    "    .query(\"(date >= @m_start_t) & (date <= @m_stop_t)\")\n",
    ")\n",
    "\n",
    "(\n",
    "    gg.ggplot(meat_long_monthly_agg, gg.aes(x=\"date\", y=\"weight\"))\n",
    "    + gg.geom_line()\n",
    ")"
   ]
  },
  {
   "cell_type": "code",
   "execution_count": null,
   "id": "04b06d11-c367-49b5-8e73-8a8452df1fb2",
   "metadata": {},
   "outputs": [],
   "source": []
  }
 ],
 "metadata": {
  "kernelspec": {
   "display_name": "Python 3 (ipykernel)",
   "language": "python",
   "name": "python3"
  },
  "language_info": {
   "codemirror_mode": {
    "name": "ipython",
    "version": 3
   },
   "file_extension": ".py",
   "mimetype": "text/x-python",
   "name": "python",
   "nbconvert_exporter": "python",
   "pygments_lexer": "ipython3",
   "version": "3.13.0"
  }
 },
 "nbformat": 4,
 "nbformat_minor": 5
}
